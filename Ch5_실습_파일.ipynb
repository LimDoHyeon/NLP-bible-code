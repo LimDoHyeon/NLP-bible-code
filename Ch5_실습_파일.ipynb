{
  "nbformat": 4,
  "nbformat_minor": 0,
  "metadata": {
    "colab": {
      "provenance": [],
      "authorship_tag": "ABX9TyOHtn+Bx5xdFsORHlI0pk8S",
      "include_colab_link": true
    },
    "kernelspec": {
      "name": "python3",
      "display_name": "Python 3"
    },
    "language_info": {
      "name": "python"
    }
  },
  "cells": [
    {
      "cell_type": "markdown",
      "metadata": {
        "id": "view-in-github",
        "colab_type": "text"
      },
      "source": [
        "<a href=\"https://colab.research.google.com/github/LimDoHyeon/NLP-bible-code/blob/main/Ch5_%EC%8B%A4%EC%8A%B5_%ED%8C%8C%EC%9D%BC.ipynb\" target=\"_parent\"><img src=\"https://colab.research.google.com/assets/colab-badge.svg\" alt=\"Open In Colab\"/></a>"
      ]
    },
    {
      "cell_type": "code",
      "execution_count": 1,
      "metadata": {
        "colab": {
          "base_uri": "https://localhost:8080/"
        },
        "id": "RaFV0eGHgdbB",
        "outputId": "3199dcdd-b642-4903-fd5a-d0230639c52a"
      },
      "outputs": [
        {
          "output_type": "stream",
          "name": "stdout",
          "text": [
            "Looking in indexes: https://pypi.org/simple, https://us-python.pkg.dev/colab-wheels/public/simple/\n",
            "Collecting konlpy\n",
            "  Downloading konlpy-0.6.0-py2.py3-none-any.whl (19.4 MB)\n",
            "\u001b[2K     \u001b[90m━━━━━━━━━━━━━━━━━━━━━━━━━━━━━━━━━━━━━━━━\u001b[0m \u001b[32m19.4/19.4 MB\u001b[0m \u001b[31m33.6 MB/s\u001b[0m eta \u001b[36m0:00:00\u001b[0m\n",
            "\u001b[?25hRequirement already satisfied: numpy>=1.6 in /usr/local/lib/python3.8/dist-packages (from konlpy) (1.21.6)\n",
            "Requirement already satisfied: lxml>=4.1.0 in /usr/local/lib/python3.8/dist-packages (from konlpy) (4.9.2)\n",
            "Collecting JPype1>=0.7.0\n",
            "  Downloading JPype1-1.4.1-cp38-cp38-manylinux_2_12_x86_64.manylinux2010_x86_64.whl (465 kB)\n",
            "\u001b[2K     \u001b[90m━━━━━━━━━━━━━━━━━━━━━━━━━━━━━━━━━━━━━━\u001b[0m \u001b[32m465.6/465.6 KB\u001b[0m \u001b[31m22.0 MB/s\u001b[0m eta \u001b[36m0:00:00\u001b[0m\n",
            "\u001b[?25hRequirement already satisfied: packaging in /usr/local/lib/python3.8/dist-packages (from JPype1>=0.7.0->konlpy) (21.3)\n",
            "Requirement already satisfied: pyparsing!=3.0.5,>=2.0.2 in /usr/local/lib/python3.8/dist-packages (from packaging->JPype1>=0.7.0->konlpy) (3.0.9)\n",
            "Installing collected packages: JPype1, konlpy\n",
            "Successfully installed JPype1-1.4.1 konlpy-0.6.0\n"
          ]
        }
      ],
      "source": [
        "!pip install konlpy"
      ]
    },
    {
      "cell_type": "markdown",
      "source": [
        "#5-1. KoNLPy를 이용한 형태소 분석"
      ],
      "metadata": {
        "id": "TDVdZ6reihqD"
      }
    },
    {
      "cell_type": "code",
      "source": [
        "from konlpy.tag import Kkma\n",
        "from konlpy.tag import Okt\n",
        "from konlpy.tag import Hannanum\n",
        "from konlpy.tag import Komoran\n",
        "from konlpy.tag import Twitter\n",
        "\n",
        "kkma = Kkma()\n",
        "okt = Okt()\n",
        "komoran = Komoran()\n",
        "hannanum = Hannanum()\n",
        "twitter = Twitter()"
      ],
      "metadata": {
        "colab": {
          "base_uri": "https://localhost:8080/"
        },
        "id": "Wf2AlNMGgp5Z",
        "outputId": "5b4a531e-cdbf-40a1-afc4-5f36b4e985e9"
      },
      "execution_count": 6,
      "outputs": [
        {
          "output_type": "stream",
          "name": "stderr",
          "text": [
            "/usr/local/lib/python3.8/dist-packages/konlpy/tag/_okt.py:17: UserWarning: \"Twitter\" has changed to \"Okt\" since KoNLPy v0.4.5.\n",
            "  warn('\"Twitter\" has changed to \"Okt\" since KoNLPy v0.4.5.')\n"
          ]
        }
      ]
    },
    {
      "cell_type": "code",
      "source": [
        "#konlpy중 Kkma는 문장 분리가 가능(다른 라이브러리는 되지 않는 기능)\n",
        "print(\"kkma 문장 분리 : \", kkma.sentences('네 안녕하세요 반갑습니다.'))"
      ],
      "metadata": {
        "colab": {
          "base_uri": "https://localhost:8080/"
        },
        "id": "nk_6tAw9g_fx",
        "outputId": "dd4c633d-094c-4636-e22a-ab5008a1332c"
      },
      "execution_count": 12,
      "outputs": [
        {
          "output_type": "stream",
          "name": "stdout",
          "text": [
            "kkma 문장 분리 :  ['네 안녕하세요', '반갑습니다.']\n"
          ]
        }
      ]
    },
    {
      "cell_type": "code",
      "source": [
        "#konlpy의 라이브러리 형태소 분석 비교\n",
        "print (\"okt 형태소 분석 : \", okt.morphs(\"집에 가면 감자 좀 쪄줄래?\"))\n",
        "print (\"kkma 형태소 분석 : \", kkma.morphs (\"집에 가면 감자 좀 쪄줄래?\"))\n",
        "print (\"hannanum 형태소 분석 : \", hannanum.morphs (\"집에 가면 감자 좀 쪄줄래?\"))\n",
        "print (\"komoran 형태소 분석 : \", komoran.morphs (\"집에 가면 감자 좀 쪄줄래?\"))\n",
        "print (\"twitter 형태소 분석 : \", twitter.morphs (\"집에 가면 감자 좀 쪄줄래?\"))"
      ],
      "metadata": {
        "colab": {
          "base_uri": "https://localhost:8080/"
        },
        "id": "64Ss23oEhdrm",
        "outputId": "3ea44d6b-3180-4195-b4d2-ca4e66795e86"
      },
      "execution_count": 11,
      "outputs": [
        {
          "output_type": "stream",
          "name": "stdout",
          "text": [
            "okt 형태소 분석 :  ['집', '에', '가면', '감자', '좀', '쪄줄래', '?']\n",
            "kkma 형태소 분석 :  ['집', '에', '가', '면', '감자', '좀', '찌', '어', '주', 'ㄹ래', '?']\n",
            "hannanum 형태소 분석 :  ['집', '에', '가', '면', '감', '자', '좀', '찌', '어', '줄', '래', '?']\n",
            "komoran 형태소 분석 :  ['집', '에', '가', '면', '감자', '좀', '찌', '어', '주', 'ㄹ래', '?']\n",
            "twitter 형태소 분석 :  ['집', '에', '가면', '감자', '좀', '쪄줄래', '?']\n"
          ]
        }
      ]
    },
    {
      "cell_type": "markdown",
      "source": [
        "#5-2. KoNLPy를 이용한 품사 태깅"
      ],
      "metadata": {
        "id": "H0P2bN1Vipjk"
      }
    },
    {
      "cell_type": "code",
      "source": [
        "#konlpy의 라이브러리 품사태깅 비교\n",
        "print(\"okt 형태소 분석 : \", okt.pos(\"집에 가면 감자 좀 쪄줄래?\"))\n",
        "print(\"kkma 형태소 분석 : \", kkma.pos(\"집에 가면 감자 좀 쪄줄래?\"))\n",
        "print(\"hannanum 형태소 분석 : \", hannanum.pos(\"집에 가면 감자 좀 쪄줄래?\"))\n",
        "print(\"komoran 형태소 분석 : \", komoran.pos(\"집에 가면 감자 좀 쪄줄래?\"))\n",
        "print(\"twitter 형태소 분석 : \", twitter.pos(\"집에 가면 감자 좀 쪄줄래?\"))"
      ],
      "metadata": {
        "colab": {
          "base_uri": "https://localhost:8080/"
        },
        "id": "TE_fnZELiBLv",
        "outputId": "658bd81c-002a-4c0e-fd51-67bb54c6de44"
      },
      "execution_count": 14,
      "outputs": [
        {
          "output_type": "stream",
          "name": "stdout",
          "text": [
            "okt 형태소 분석 :  [('집', 'Noun'), ('에', 'Josa'), ('가면', 'Noun'), ('감자', 'Noun'), ('좀', 'Noun'), ('쪄줄래', 'Verb'), ('?', 'Punctuation')]\n",
            "kkma 형태소 분석 :  [('집', 'NNG'), ('에', 'JKM'), ('가', 'VV'), ('면', 'ECE'), ('감자', 'NNG'), ('좀', 'MAG'), ('찌', 'VV'), ('어', 'ECS'), ('주', 'VXV'), ('ㄹ래', 'EFQ'), ('?', 'SF')]\n",
            "hannanum 형태소 분석 :  [('집', 'N'), ('에', 'J'), ('가', 'P'), ('면', 'E'), ('감', 'P'), ('자', 'E'), ('좀', 'M'), ('찌', 'P'), ('어', 'E'), ('줄', 'P'), ('래', 'E'), ('?', 'S')]\n",
            "komoran 형태소 분석 :  [('집', 'NNG'), ('에', 'JKB'), ('가', 'VV'), ('면', 'EC'), ('감자', 'NNP'), ('좀', 'MAG'), ('찌', 'VV'), ('어', 'EC'), ('주', 'VX'), ('ㄹ래', 'EF'), ('?', 'SF')]\n",
            "twitter 형태소 분석 :  [('집', 'Noun'), ('에', 'Josa'), ('가면', 'Noun'), ('감자', 'Noun'), ('좀', 'Noun'), ('쪄줄래', 'Verb'), ('?', 'Punctuation')]\n"
          ]
        }
      ]
    }
  ]
}